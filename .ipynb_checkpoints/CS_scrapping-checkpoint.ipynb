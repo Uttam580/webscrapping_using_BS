{
 "cells": [
  {
   "cell_type": "code",
   "execution_count": 23,
   "metadata": {},
   "outputs": [],
   "source": [
    "from bs4 import BeautifulSoup\n",
    "import requests\n",
    "import csv"
   ]
  },
  {
   "cell_type": "code",
   "execution_count": 2,
   "metadata": {},
   "outputs": [],
   "source": [
    "source = requests.get('https://coreyms.com')"
   ]
  },
  {
   "cell_type": "code",
   "execution_count": 3,
   "metadata": {},
   "outputs": [
    {
     "data": {
      "text/plain": [
       "<Response [200]>"
      ]
     },
     "execution_count": 3,
     "metadata": {},
     "output_type": "execute_result"
    }
   ],
   "source": [
    "source"
   ]
  },
  {
   "cell_type": "code",
   "execution_count": 4,
   "metadata": {},
   "outputs": [],
   "source": [
    "source =source.text"
   ]
  },
  {
   "cell_type": "code",
   "execution_count": 5,
   "metadata": {},
   "outputs": [],
   "source": [
    "soup = BeautifulSoup(source, 'lxml')"
   ]
  },
  {
   "cell_type": "code",
   "execution_count": 6,
   "metadata": {
    "scrolled": false
   },
   "outputs": [
    {
     "name": "stdout",
     "output_type": "stream",
     "text": [
      "prettified html\n"
     ]
    }
   ],
   "source": [
    "soup.prettify()\n",
    "print('prettified html')"
   ]
  },
  {
   "cell_type": "code",
   "execution_count": 7,
   "metadata": {},
   "outputs": [
    {
     "name": "stdout",
     "output_type": "stream",
     "text": [
      "<article class=\"post-1670 post type-post status-publish format-standard has-post-thumbnail category-development category-python tag-gzip tag-shutil tag-zip tag-zipfile entry\" itemscope=\"\" itemtype=\"https://schema.org/CreativeWork\">\n",
      " <header class=\"entry-header\">\n",
      "  <h2 class=\"entry-title\" itemprop=\"headline\">\n",
      "   <a class=\"entry-title-link\" href=\"https://coreyms.com/development/python/python-tutorial-zip-files-creating-and-extracting-zip-archives\" rel=\"bookmark\">\n",
      "    Python Tutorial: Zip Files – Creating and Extracting Zip Archives\n",
      "   </a>\n",
      "  </h2>\n",
      "  <p class=\"entry-meta\">\n",
      "   <time class=\"entry-time\" datetime=\"2019-11-19T13:02:37-05:00\" itemprop=\"datePublished\">\n",
      "    November 19, 2019\n",
      "   </time>\n",
      "   by\n",
      "   <span class=\"entry-author\" itemprop=\"author\" itemscope=\"\" itemtype=\"https://schema.org/Person\">\n",
      "    <a class=\"entry-author-link\" href=\"https://coreyms.com/author/coreymschafer\" itemprop=\"url\" rel=\"author\">\n",
      "     <span class=\"entry-author-name\" itemprop=\"name\">\n",
      "      Corey Schafer\n",
      "     </span>\n",
      "    </a>\n",
      "   </span>\n",
      "   <span class=\"entry-comments-link\">\n",
      "    <a href=\"https://coreyms.com/development/python/python-tutorial-zip-files-creating-and-extracting-zip-archives#respond\">\n",
      "     <span class=\"dsq-postid\" data-dsqidentifier=\"1670 http://coreyms.com/?p=1670\">\n",
      "      Leave a Comment\n",
      "     </span>\n",
      "    </a>\n",
      "   </span>\n",
      "  </p>\n",
      " </header>\n",
      " <div class=\"entry-content\" itemprop=\"text\">\n",
      "  <p>\n",
      "   In this video, we will be learning how to create and extract zip archives. We will start by using the zipfile module, and then we will see how to do this using the shutil module. We will learn how to do this with single files and directories, as well as learning how to use gzip as well. Let’s get started…\n",
      "   <br/>\n",
      "  </p>\n",
      "  <span class=\"embed-youtube\" style=\"text-align:center; display: block;\">\n",
      "   <iframe allowfullscreen=\"true\" class=\"youtube-player\" height=\"360\" src=\"https://www.youtube.com/embed/z0gguhEmWiY?version=3&amp;rel=1&amp;fs=1&amp;autohide=2&amp;showsearch=0&amp;showinfo=1&amp;iv_load_policy=1&amp;wmode=transparent\" style=\"border:0;\" width=\"640\">\n",
      "   </iframe>\n",
      "  </span>\n",
      " </div>\n",
      " <footer class=\"entry-footer\">\n",
      "  <p class=\"entry-meta\">\n",
      "   <span class=\"entry-categories\">\n",
      "    Filed Under:\n",
      "    <a href=\"https://coreyms.com/category/development\" rel=\"category tag\">\n",
      "     Development\n",
      "    </a>\n",
      "    ,\n",
      "    <a href=\"https://coreyms.com/category/development/python\" rel=\"category tag\">\n",
      "     Python\n",
      "    </a>\n",
      "   </span>\n",
      "   <span class=\"entry-tags\">\n",
      "    Tagged With:\n",
      "    <a href=\"https://coreyms.com/tag/gzip\" rel=\"tag\">\n",
      "     gzip\n",
      "    </a>\n",
      "    ,\n",
      "    <a href=\"https://coreyms.com/tag/shutil\" rel=\"tag\">\n",
      "     shutil\n",
      "    </a>\n",
      "    ,\n",
      "    <a href=\"https://coreyms.com/tag/zip\" rel=\"tag\">\n",
      "     zip\n",
      "    </a>\n",
      "    ,\n",
      "    <a href=\"https://coreyms.com/tag/zipfile\" rel=\"tag\">\n",
      "     zipfile\n",
      "    </a>\n",
      "   </span>\n",
      "  </p>\n",
      " </footer>\n",
      "</article>\n",
      "\n"
     ]
    }
   ],
   "source": [
    "article = soup.find('article')\n",
    "print(article.prettify())"
   ]
  },
  {
   "cell_type": "code",
   "execution_count": 8,
   "metadata": {},
   "outputs": [
    {
     "name": "stdout",
     "output_type": "stream",
     "text": [
      "Python Tutorial: Zip Files – Creating and Extracting Zip Archives\n"
     ]
    }
   ],
   "source": [
    "headline = article.h2.a.text\n",
    "print(headline)"
   ]
  },
  {
   "cell_type": "code",
   "execution_count": 9,
   "metadata": {},
   "outputs": [
    {
     "name": "stdout",
     "output_type": "stream",
     "text": [
      "In this video, we will be learning how to create and extract zip archives. We will start by using the zipfile module, and then we will see how to do this using the shutil module. We will learn how to do this with single files and directories, as well as learning how to use gzip as well. Let’s get started…\n"
     ]
    }
   ],
   "source": [
    "summary = article.find('div', class_='entry-content').p.text\n",
    "print(summary)"
   ]
  },
  {
   "cell_type": "code",
   "execution_count": 12,
   "metadata": {},
   "outputs": [
    {
     "name": "stdout",
     "output_type": "stream",
     "text": [
      "https://www.youtube.com/embed/z0gguhEmWiY?version=3&rel=1&fs=1&autohide=2&showsearch=0&showinfo=1&iv_load_policy=1&wmode=transparent\n"
     ]
    }
   ],
   "source": [
    "vid_src = article.find('iframe', class_= 'youtube-player')['src']\n",
    "print(vid_src)"
   ]
  },
  {
   "cell_type": "code",
   "execution_count": 17,
   "metadata": {},
   "outputs": [
    {
     "data": {
      "text/plain": [
       "'z0gguhEmWiY?version=3&rel=1&fs=1&autohide=2&showsearch=0&showinfo=1&iv_load_policy=1&wmode=transparent'"
      ]
     },
     "execution_count": 17,
     "metadata": {},
     "output_type": "execute_result"
    }
   ],
   "source": [
    "vid_id= vid_src.split('/')[4]\n",
    "vid_id"
   ]
  },
  {
   "cell_type": "code",
   "execution_count": 18,
   "metadata": {},
   "outputs": [
    {
     "name": "stdout",
     "output_type": "stream",
     "text": [
      "z0gguhEmWiY\n"
     ]
    }
   ],
   "source": [
    "vid_id = vid_id.split('?')[0]\n",
    "print(vid_id)"
   ]
  },
  {
   "cell_type": "code",
   "execution_count": 19,
   "metadata": {},
   "outputs": [
    {
     "name": "stdout",
     "output_type": "stream",
     "text": [
      "https://www.youtube.com/watch?v=z0gguhEmWiY\n"
     ]
    }
   ],
   "source": [
    "yt_link = f'https://www.youtube.com/watch?v={vid_id}'\n",
    "print(yt_link)"
   ]
  },
  {
   "cell_type": "code",
   "execution_count": 26,
   "metadata": {},
   "outputs": [
    {
     "name": "stdout",
     "output_type": "stream",
     "text": [
      "Python Tutorial: Zip Files – Creating and Extracting Zip Archives\n",
      "In this video, we will be learning how to create and extract zip archives. We will start by using the zipfile module, and then we will see how to do this using the shutil module. We will learn how to do this with single files and directories, as well as learning how to use gzip as well. Let’s get started…\n",
      "https://www.youtube.com/watch?v=z0gguhEmWiY\n",
      "\n",
      "Python Data Science Tutorial: Analyzing the 2019 Stack Overflow Developer Survey\n",
      "In this Python Programming video, we will be learning how to download and analyze real-world data from the 2019 Stack Overflow Developer Survey. This is terrific practice for anyone getting into the data science field. We will learn different ways to analyze this data and also some best practices. Let’s get started…\n",
      "https://www.youtube.com/watch?v=_P7X8tMplsw\n",
      "\n",
      "Python Multiprocessing Tutorial: Run Code in Parallel Using the Multiprocessing Module\n",
      "In this Python Programming video, we will be learning how to run code in parallel using the multiprocessing module. We will also look at how to process multiple high-resolution images at the same time using a ProcessPoolExecutor from the concurrent.futures module. Let’s get started…\n",
      "https://www.youtube.com/watch?v=fKl2JW_qrso\n",
      "\n",
      "Python Threading Tutorial: Run Code Concurrently Using the Threading Module\n",
      "In this Python Programming video, we will be learning how to run threads concurrently using the threading module. We will also look at how to download multiple high-resolution images online using a ThreadPoolExecutor from the concurrent.futures module. Let’s get started…\n",
      "https://www.youtube.com/watch?v=IEEhzQoKtQU\n",
      "\n",
      "Update (2019-09-03)\n",
      "Hey everyone. I wanted to give you an update on my videos. I will be releasing videos on threading and multiprocessing within the next week. Thanks so much for your patience. I currently have a temporary recording studio setup at my Airbnb that will allow me to record and edit the threading/multiprocessing videos. I am going to be moving into my new house in 10 days and once I have my recording studio setup then you can expect much faster video releases. I really appreciate how patient everyone has been while I go through this move, especially those of you who are contributing monthly through YouTube \n",
      "youtube video link not found\n",
      "\n",
      "Python Quick Tip: The Difference Between “==” and “is” (Equality vs Identity)\n",
      "In this Python Programming Tutorial, we will be learning the difference between using “==” and the “is” keyword when doing comparisons. The difference between these is that “==” checks to see if values are equal, and the “is” keyword checks their identity, which means it’s going to check if the values are identical in terms of being the same object in memory. We’ll learn more in the video. Let’s get started…\n",
      "https://www.youtube.com/watch?v=mO_dS3rXDIs\n",
      "\n",
      "Python Tutorial: Calling External Commands Using the Subprocess Module\n",
      "In this Python Programming Tutorial, we will be learning how to run external commands using the subprocess module from the standard library. We will learn how to run commands, capture the output, handle errors, and also how to pipe output into other commands. Let’s get started…\n",
      "https://www.youtube.com/watch?v=2Fp1N6dof0Y\n",
      "\n",
      "Visual Studio Code (Windows) – Setting up a Python Development Environment and Complete Overview\n",
      "In this Python Programming Tutorial, we will be learning how to set up a Python development environment in VSCode on Windows. VSCode is a very nice free editor for writing Python applications and many developers are now switching over to this editor. In this video, we will learn how to install VSCode, get the Python extension installed, how to change Python interpreters, create virtual environments, format/lint our code, how to use Git within VSCode, how to debug our programs, how unit testing works, and more. We have a lot to cover, so let’s go ahead and get started…\n",
      "https://www.youtube.com/watch?v=-nh9rCzPJ20\n",
      "\n",
      "Visual Studio Code (Mac) – Setting up a Python Development Environment and Complete Overview\n",
      "In this Python Programming Tutorial, we will be learning how to set up a Python development environment in VSCode on MacOS. VSCode is a very nice free editor for writing Python applications and many developers are now switching over to this editor. In this video, we will learn how to install VSCode, get the Python extension installed, how to change Python interpreters, create virtual environments, format/lint our code, how to use Git within VSCode, how to debug our programs, how unit testing works, and more. We have a lot to cover, so let’s go ahead and get started…\n",
      "https://www.youtube.com/watch?v=06I63_p-2A4\n",
      "\n",
      "Clarifying the Issues with Mutable Default Arguments\n",
      "In this Python Programming Tutorial, we will be clarifying the issues with mutable default arguments. We discussed this in my last video titled “5 Common Python Mistakes and How to Fix Them”, but I received many comments from people who were still confused. So we will be doing a deeper dive to explain exactly what is going on here. Let’s get started…\n",
      "https://www.youtube.com/watch?v=_JGmemuINww\n",
      "\n"
     ]
    }
   ],
   "source": [
    "csv_file = open('cs_scrapper.csv','w')\n",
    "csv_writer = csv.writer(csv_file)\n",
    "csv_writer.writerow(['headline','summary','video_link'])\n",
    "\n",
    "for article in soup.find_all('article'):\n",
    "    headline = article.h2.a.text\n",
    "    print(headline)\n",
    "    summary = article.find('div', class_='entry-content').p.text\n",
    "    print(summary)\n",
    "    try:\n",
    "        vid_src = article.find('iframe', class_= 'youtube-player')['src']\n",
    "        vid_id= vid_src.split('/')[4]\n",
    "        vid_id = vid_id.split('?')[0]\n",
    "        yt_link = f'https://www.youtube.com/watch?v={vid_id}'\n",
    "        print(yt_link)\n",
    "    except: \n",
    "        print('youtube video link not found')\n",
    "    print()\n",
    "    csv_writer.writerow([headline,summary,yt_link])\n",
    "csv_file.close()"
   ]
  },
  {
   "cell_type": "code",
   "execution_count": null,
   "metadata": {},
   "outputs": [],
   "source": []
  }
 ],
 "metadata": {
  "kernelspec": {
   "display_name": "Python 3.6.10 64-bit ('myenv': conda)",
   "language": "python",
   "name": "python361064bitmyenvconda19660c99110047d392739a21cb34d09d"
  },
  "language_info": {
   "codemirror_mode": {
    "name": "ipython",
    "version": 3
   },
   "file_extension": ".py",
   "mimetype": "text/x-python",
   "name": "python",
   "nbconvert_exporter": "python",
   "pygments_lexer": "ipython3",
   "version": "3.6.10"
  }
 },
 "nbformat": 4,
 "nbformat_minor": 4
}
